{
 "cells": [
  {
   "cell_type": "markdown",
   "metadata": {
    "id": "-jNnJA8XhTPf",
    "tags": [
     "start_task"
    ]
   },
   "source": [
    "# The Jupyter Notebook <a id='intro'></a>\n",
    "\n",
    "The Jupyter Notebook is a crucial tool for analysts and data scientists. It's an app that allows you to create notebooks - documents that can contain text, code, tables, and visualizations - in order to present your work and explain your reasoning. \n",
    "\n",
    "Jupyter notebooks consist of two types of cells:\n",
    "* Those capable of running code\n",
    "* Those which display text using the markup language Markdown\n",
    "\n",
    "\n",
    "The text you're reading is located in a text cell. And the next cell contains code:\n"
   ]
  },
  {
   "cell_type": "code",
   "execution_count": 2,
   "metadata": {
    "colab": {
     "base_uri": "https://localhost:8080/"
    },
    "id": "PD_2gCZIhTPf",
    "outputId": "25f7ee59-20a5-44e8-9216-2951899e1509"
   },
   "outputs": [
    {
     "name": "stdout",
     "output_type": "stream",
     "text": [
      "Mathematicians use graphing notebooks,\n",
      "scholars like ruled ones,\n",
      "but analysts are into cells.\n",
      "first_number + second_number = 5\n"
     ]
    }
   ],
   "source": [
    "print('Mathematicians use graphing notebooks,')\n",
    "print('scholars like ruled ones,')\n",
    "print('but analysts are into cells.')\n",
    "\n",
    "first_number = 2\n",
    "second_number = 3\n",
    "\n",
    "result = first_number + second_number\n",
    "\n",
    "print('first_number + second_number =', result)"
   ]
  },
  {
   "cell_type": "markdown",
   "metadata": {
    "id": "WWg2SkX3hTPf"
   },
   "source": [
    "Click on the cell with the code. A green frame will appear around its borders. That means you're in edit mode.\n",
    "\n",
    "To run the code, press `Shift+Enter` or click on [▶| Run] button in the menu above."
   ]
  },
  {
   "cell_type": "markdown",
   "metadata": {
    "id": "fO9xfZ3BhTPf"
   },
   "source": [
    "## Code cells\n",
    "\n",
    "Code output appears immediately under the box with code. Note that you can leave out print(). Check it out:"
   ]
  },
  {
   "cell_type": "code",
   "execution_count": 3,
   "metadata": {
    "colab": {
     "base_uri": "https://localhost:8080/"
    },
    "id": "V6hLUJyDhTPf",
    "outputId": "3887e391-a147-4069-a142-ee354f15ecda"
   },
   "outputs": [
    {
     "data": {
      "text/plain": [
       "13"
      ]
     },
     "execution_count": 3,
     "metadata": {},
     "output_type": "execute_result"
    }
   ],
   "source": [
    "def sum_square(x, y):\n",
    "  return x*x + y*y\n",
    "\n",
    "sum_square(first_number, second_number) # you may skip print() here"
   ]
  },
  {
   "cell_type": "markdown",
   "metadata": {
    "id": "U8pplckjhTPg"
   },
   "source": [
    "The code output `13` without the `print()` function.\n",
    "\n",
    "But here's an interesting thing. We didn't declare the variables `first_number` and `second_number` in the code, and yet the function ran without errors. It received the values of these variables from the previous cell. \n",
    "\n",
    "As Jupyter runs the code in cells, it memorizes the results. All changes in variables will be saved and taken into account next time you call any cell.\n",
    "\n",
    "You can run cells individually, in groups, or all at once. Select Cell in the menu, and you'll see three commands:\n",
    "\n",
    "* 'Run All' will launch all cells.\n",
    "* 'Run All Above' will run all cells above the selected one.\n",
    "* 'Run All Below' will run all cells below the selected one.\n",
    "\n",
    "To cancel all changes in variables, click on ⟳ in the upper menu.\n",
    "\n",
    "**Task**. Fill in the next cell so that after the code is executed, the value of the `sum_result` variable becomes `8`. Run the cell to check your solution."
   ]
  },
  {
   "cell_type": "code",
   "execution_count": 8,
   "metadata": {
    "id": "cjlAg-nfhTPg"
   },
   "outputs": [
    {
     "data": {
      "text/plain": [
       "8"
      ]
     },
     "execution_count": 8,
     "metadata": {},
     "output_type": "execute_result"
    }
   ],
   "source": [
    "third_number = 2\n",
    "sum_result = sum_square(third_number, first_number)\n",
    "sum_result # write a variable name in the last line, and it'll get printed"
   ]
  },
  {
   "cell_type": "markdown",
   "metadata": {
    "id": "U8pplckjhTPg"
   },
   "source": [
    "And again the last value in the code, i.e. `sum_result`, is automatically printed. To print any (not simply the last) value from the code, in Jupyter we call the `display()` function:"
   ]
  },
  {
   "cell_type": "code",
   "execution_count": 9,
   "metadata": {
    "id": "cjlAg-nfhTPg"
   },
   "outputs": [
    {
     "data": {
      "text/plain": [
       "1"
      ]
     },
     "metadata": {},
     "output_type": "display_data"
    },
    {
     "data": {
      "text/plain": [
       "2"
      ]
     },
     "execution_count": 9,
     "metadata": {},
     "output_type": "execute_result"
    }
   ],
   "source": [
    "first_number = 1\n",
    "display(first_number)\n",
    "\n",
    "last_number = 2\n",
    "last_number\n"
   ]
  },
  {
   "cell_type": "markdown",
   "metadata": {
    "id": "o1sJmy6PhTPg"
   },
   "source": [
    "##  Markdown (text) cells\n",
    "\n",
    "We need text cells to display text and formatting elements: formatted texts with headers, lists, tables, etc.\n",
    "\n",
    "Any code cell can be turned into a text one and vice versa. \n",
    "\n",
    "Change the type of the following cell to Markdown and use formatting. To do so: \n",
    "\n",
    "* Click on the cell with the table\n",
    "* In the menu select Cell -> Cell type -> Markdown\n",
    "* Press `Shift + Enter` to format the cell\n",
    "\n",
    "\n",
    "\n",
    "\n"
   ]
  },
  {
   "cell_type": "markdown",
   "metadata": {
    "colab": {
     "base_uri": "https://localhost:8080/",
     "height": 147
    },
    "id": "dBJ2CWnQhTPg",
    "outputId": "16f17fa9-3067-4692-89d3-8ea2d36a6640"
   },
   "source": [
    "\n",
    "### Table 1\n",
    "\n",
    "| Language                 | The share of webistes in top-10, mn | Native speakers, mn | Speakers, mn |\n",
    "|--------------------------|-----------------|--------------------|-------------|\n",
    "| English                  | 53.90%          | 378.2              | 1121        |\n",
    "| Russian                  | 6.10%           | 153.9              | 264.3       |\n",
    "| German                   | 6.00%           | 76                 | 132         |\n",
    "| Spanish                  | 4.90%           | 442.3              | 512.9       |\n",
    "| French                   | 4.00%           | 76.7               | 284.9       |\n",
    "| Japanese                 | 3.40%           | 128.2              | 128.3       |\n",
    "| Portuguese               | 2.90%           | 222.7              | 236.5       |\n",
    "| Italian                  | 2.40%           | 64.8               | 67.8        |\n",
    "| Persian                  | 2.00%           | 60                 | 110         |\n",
    "| Polish                   | 1.80%           | 39.6               | 40.3        |\n",
    "| Chinese                  | 1.70%           | 908.7              | 1.107       |\n",
    "| Danish                   | 1.20%           | 22                 | 28          |\n",
    "| Turkish                  | 1.20%           | 78.5               | 78.9        |\n",
    "| Czech                    | 1.00%           | 10.4               | 10.6        |\n",
    "\n"
   ]
  },
  {
   "cell_type": "markdown",
   "metadata": {
    "id": "MxNKUirwhTPg"
   },
   "source": [
    "Text cells are marked according to Markdown syntax. You need to add special symbols to the text which tell Jupyter how the text must be formatted. You can't see these symbols unless you enter edit mode. \n",
    "\n",
    "**Cell modes**\n",
    "\n",
    "When you click on a text cell, a blue frame appears around it. This is command mode, where you can modify the cell type, but not its contents.\n",
    "\n",
    "Double-click on the text cell to open it in the edit mode. Its formatting will disappear and you'll see the special symbols instead. "
   ]
  },
  {
   "cell_type": "markdown",
   "metadata": {
    "id": "XSjnV5qZBQtK"
   },
   "source": [
    "Place double asterisks around text to make it **bold**.\n",
    "\n",
    "Double-click on this cell to see this text in Markdown. \n",
    "\n",
    "Then press `Shift + Enter` to reset formatting."
   ]
  },
  {
   "cell_type": "markdown",
   "metadata": {
    "id": "3-PHTB4mhTPg"
   },
   "source": [
    "**Lists** begin with `-` or `*`:\n",
    "\n",
    "- I came\n",
    "- I saw\n",
    "- I analyzed\n"
   ]
  },
  {
   "cell_type": "markdown",
   "metadata": {
    "id": "xvp945kY_Pfb"
   },
   "source": [
    "**Highlight code** by placing it between backticks. For example: `display()`. \n",
    "\n",
    "Several lines of code go between triple backticks, as in the following cell."
   ]
  },
  {
   "cell_type": "markdown",
   "metadata": {},
   "source": [
    "```\n",
    "first line of code\n",
    "seconde line of code\n",
    "```"
   ]
  },
  {
   "cell_type": "markdown",
   "metadata": {
    "id": "uuAOqrUZ8y4Z"
   },
   "source": [
    "**Headings** begin with `#`:\n",
    "\n",
    "```\n",
    "# First level heading\n",
    "## Second level heading\n",
    "### Third level heading\n",
    "```\n",
    "\n",
    "Double-click on any heading in this document to look at its Markdown. Then reset formatting using `Shift + Enter`."
   ]
  },
  {
   "cell_type": "markdown",
   "metadata": {},
   "source": [
    "### Example third level heading "
   ]
  },
  {
   "cell_type": "markdown",
   "metadata": {
    "id": "uuAOqrUZ8y4Z"
   },
   "source": [
    "**Links** in markdown consist of two parts:\n",
    "\n",
    "* The text the user will see is placed between square brackets\n",
    "* They are followed by parentheses which contain the link that Jupyter is to add to the text\n",
    "\n",
    "For example:\n",
    "\n",
    "Markdown: `[TripleTen](https://tripleten.com/)`.\n",
    "\n",
    "Result: [TripleTen](https://tripleten.com/).\n",
    "\n",
    "\n",
    "**Internal links** lead to separate notebook cells. You'll need them for your projects. Internal links are used to make up the contents of your research in Jupyter.\n",
    "\n",
    "To refer to a notebook cell, you need to add a tag with an id, a unique tag name:\n",
    "\n",
    "`<a id='intro'></a>`\n",
    "\n",
    "We placed this tag to the first notebook cell. Now we can write the link that will move us to the beginning of this notebook: \n",
    "\n",
    "Markdown: `[The beginning of the notebook](#intro)`.\n",
    "\n",
    "Result: [The beginning of the notebook](#intro).\n"
   ]
  },
  {
   "cell_type": "markdown",
   "metadata": {
    "id": "CGy21Mv6hTPg"
   },
   "source": [
    "## Hot keys\n",
    "Hot keys allow you to quickly call certain commands. You've already tried using `Shift + Enter`. It:\n",
    "\n",
    "* Runs the code in a code cell\n",
    "* Formats the text in a text cell\n",
    "\n",
    "This combination works in both edit and command modes.\n",
    "\n",
    "Other hot keys work only in the command mode, when the cell is framed in blue:\n",
    "\n",
    "- `m`  transforms a code cell into a text one \n",
    "- `y`  transforms a text cell into a code one\n",
    "- `b`  adds a new cell under the selected one\n",
    "- `a`  adds a new cell above the selected one\n",
    "\n",
    "Finally, press `Esc` in edit mode to switch to command mode.\n",
    "\n",
    "Play with hot keys in this document. Try selecting this cell and create a new one below it using `b`. Then transform it to a text cell with `m`.\n",
    "\n",
    "\n",
    "## Autosaving\n",
    "Jupyter automatically saves all changes in your notebook, but regularly saving manually is a good idea. When you're working on independent projects, save your progress by pressing 💾 in the upper lefthand corner each time you make any significant changes."
   ]
  }
 ],
 "metadata": {
  "ExecuteTimeLog": [
   {
    "duration": 7,
    "start_time": "2024-09-25T21:12:34.982Z"
   },
   {
    "duration": 3,
    "start_time": "2024-09-25T21:13:45.952Z"
   },
   {
    "duration": 5,
    "start_time": "2024-09-25T21:13:48.070Z"
   },
   {
    "duration": 4,
    "start_time": "2024-09-25T21:13:49.666Z"
   },
   {
    "duration": 3,
    "start_time": "2024-09-25T21:14:02.777Z"
   },
   {
    "duration": 4,
    "start_time": "2024-09-25T21:14:07.377Z"
   },
   {
    "duration": 4,
    "start_time": "2024-09-25T21:14:13.219Z"
   },
   {
    "duration": 4,
    "start_time": "2024-09-25T21:14:18.104Z"
   },
   {
    "duration": 5,
    "start_time": "2024-09-25T21:14:23.303Z"
   },
   {
    "duration": 5,
    "start_time": "2024-09-25T21:14:24.182Z"
   }
  ],
  "colab": {
   "collapsed_sections": [],
   "name": "JupyterYandex (1).ipynb",
   "provenance": []
  },
  "kernelspec": {
   "display_name": "Python 3 (ipykernel)",
   "language": "python",
   "name": "python3"
  },
  "language_info": {
   "codemirror_mode": {
    "name": "ipython",
    "version": 3
   },
   "file_extension": ".py",
   "mimetype": "text/x-python",
   "name": "python",
   "nbconvert_exporter": "python",
   "pygments_lexer": "ipython3",
   "version": "3.9.19"
  },
  "toc": {
   "base_numbering": 1,
   "nav_menu": {},
   "number_sections": true,
   "sideBar": true,
   "skip_h1_title": true,
   "title_cell": "Table of Contents",
   "title_sidebar": "Contents",
   "toc_cell": false,
   "toc_position": {},
   "toc_section_display": true,
   "toc_window_display": false
  }
 },
 "nbformat": 4,
 "nbformat_minor": 4
}
